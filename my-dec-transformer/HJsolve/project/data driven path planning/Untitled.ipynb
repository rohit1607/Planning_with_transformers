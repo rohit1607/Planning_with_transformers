{
 "cells": [
  {
   "cell_type": "code",
   "execution_count": 29,
   "metadata": {},
   "outputs": [],
   "source": [
    "import numpy as np\n",
    "import matplotlib.pyplot as plt"
   ]
  },
  {
   "cell_type": "code",
   "execution_count": 30,
   "metadata": {},
   "outputs": [],
   "source": [
    "land=np.load(\"./0/land_0.04.npy\")"
   ]
  },
  {
   "cell_type": "code",
   "execution_count": 31,
   "metadata": {},
   "outputs": [],
   "source": [
    "land2=np.empty(land.shape)\n",
    "for i in range(land.shape[0]):\n",
    "    for j in range(land.shape[1]):\n",
    "        if(i> 0 and j>0 and i<land.shape[0]-1 and j<land.shape[1]-1):\n",
    "            land2[i][j]=(((land[i-1][j]+land[i+1][j]+land[i][j-1]+land[i][j+1]+land[i-1][j+1]+land[i-1][j-1]+land[i+1][j-1]+land[i+1][j+1])/8)+land[i][j])/2\n",
    "        else:\n",
    "            land2[i][j]=land[i][j]"
   ]
  },
  {
   "cell_type": "code",
   "execution_count": 32,
   "metadata": {},
   "outputs": [],
   "source": [
    "s=np.asarray(np.where(land>0))"
   ]
  },
  {
   "cell_type": "code",
   "execution_count": 56,
   "metadata": {},
   "outputs": [],
   "source": []
  },
  {
   "cell_type": "code",
   "execution_count": 71,
   "metadata": {},
   "outputs": [],
   "source": [
    "chennai=(13.0827, 80.2707)\n",
    "lakshadweep=(10.5593, 72.6358)"
   ]
  },
  {
   "cell_type": "code",
   "execution_count": 72,
   "metadata": {},
   "outputs": [],
   "source": [
    "res=0.04\n",
    "start=[round(int(chennai[0]/res)*res,2),round(int(chennai[1]/res)*res,2)]\n",
    "target=[round(int(lakshadweep[0]/res)*res,2),round(int(lakshadweep[1]/res)*res,2)]"
   ]
  },
  {
   "cell_type": "code",
   "execution_count": 73,
   "metadata": {},
   "outputs": [
    {
     "data": {
      "text/plain": [
       "([13.08, 80.24], [10.52, 72.6])"
      ]
     },
     "execution_count": 73,
     "metadata": {},
     "output_type": "execute_result"
    }
   ],
   "source": [
    "start,target"
   ]
  },
  {
   "cell_type": "code",
   "execution_count": 39,
   "metadata": {},
   "outputs": [
    {
     "name": "stdout",
     "output_type": "stream",
     "text": [
      "500\n"
     ]
    }
   ],
   "source": [
    "from Grid_generation import Grid_generation\n",
    "latsrange=(4,14)\n",
    "lonsrange=(70,90)\n",
    "\n",
    "res=0.04\n",
    "_,_,Grid=Grid_generation(lonsrange,latsrange,res)\n",
    "Grid=np.asarray(Grid)"
   ]
  },
  {
   "cell_type": "code",
   "execution_count": 40,
   "metadata": {},
   "outputs": [
    {
     "data": {
      "text/plain": [
       "((69.72081563835603, 90.27918436164201), (4, 14))"
      ]
     },
     "execution_count": 40,
     "metadata": {},
     "output_type": "execute_result"
    }
   ],
   "source": [
    "minlon,maxlon=min(Grid[-1][0][1],Grid[0][0][1]),max(Grid[-1][-1][1],Grid[0][-1][1])\n",
    "lons=(minlon,maxlon)\n",
    "lats=(latsrange[0],latsrange[1])\n",
    "lons,lats"
   ]
  },
  {
   "cell_type": "code",
   "execution_count": 74,
   "metadata": {},
   "outputs": [],
   "source": [
    "row=int((start[0]-lats[0])/res)\n",
    "row2=int((target[0]-lats[0])/res)"
   ]
  },
  {
   "cell_type": "code",
   "execution_count": 85,
   "metadata": {},
   "outputs": [
    {
     "data": {
      "text/plain": [
       "array([10.52      , 72.57370007])"
      ]
     },
     "execution_count": 85,
     "metadata": {},
     "output_type": "execute_result"
    }
   ],
   "source": [
    "Grid[163][67]"
   ]
  },
  {
   "cell_type": "code",
   "execution_count": 94,
   "metadata": {},
   "outputs": [],
   "source": [
    "%matplotlib qt\n",
    "plt.scatter(s[1],s[0],s=0.1)\n",
    "plt.scatter(261,227,marker=\"*\")\n",
    "plt.scatter(72,165,marker=\".\")\n",
    "plt.show()"
   ]
  },
  {
   "cell_type": "code",
   "execution_count": 90,
   "metadata": {},
   "outputs": [],
   "source": [
    "start=(227,261)\n",
    "target=(165,67)"
   ]
  },
  {
   "cell_type": "code",
   "execution_count": null,
   "metadata": {},
   "outputs": [],
   "source": []
  }
 ],
 "metadata": {
  "kernelspec": {
   "display_name": "Python 3",
   "language": "python",
   "name": "python3"
  },
  "language_info": {
   "codemirror_mode": {
    "name": "ipython",
    "version": 3
   },
   "file_extension": ".py",
   "mimetype": "text/x-python",
   "name": "python",
   "nbconvert_exporter": "python",
   "pygments_lexer": "ipython3",
   "version": "3.6.9"
  }
 },
 "nbformat": 4,
 "nbformat_minor": 4
}
