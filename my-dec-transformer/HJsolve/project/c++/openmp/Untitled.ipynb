{
 "cells": [
  {
   "cell_type": "code",
   "execution_count": null,
   "metadata": {},
   "outputs": [],
   "source": [
    "!alias python3==python3.6.9"
   ]
  },
  {
   "cell_type": "code",
   "execution_count": 1,
   "metadata": {},
   "outputs": [],
   "source": [
    "from calendar import monthrange\n",
    "from datetime import datetime,timedelta\n",
    "#\n",
    "#import pandas as pd\n",
    "import numpy as np\n",
    "\n",
    "import os\n",
    "import time\n",
    "import pickle\n",
    "from concurrent.futures import ThreadPoolExecutor\n",
    "\n",
    "vladivostok=(43.1198,131.8869)\n",
    "chennai=(13.0827, 80.2707)\n",
    "#print(datetime.now())\n",
    "latsrange=(-15,45)\n",
    "lonsrange=(75,135)\n",
    "from joblib import Parallel, delayed\n",
    "import sklearn\n",
    "import pickle\n",
    "from math import sin,cos,pi,floor,ceil\n",
    "def lat_length(lat_deg):\n",
    "    lat=lat_deg*pi/180\n",
    "    return 111132.92-559.82*cos(2*lat)+1.175*cos(4*lat)-0.0023*cos(6*lat)\n",
    "def lon_length(lat_deg):\n",
    "    lat=lat_deg*pi/180\n",
    "    return 111412.84*cos(lat)-93.5*cos(3*lat)+0.118*cos(5*lat)\n",
    "\n",
    "def Grid_generation(res=0.08):\n",
    "    Grid=[]\n",
    "    \n",
    "    n_steps=int((lonsrange[1]-lonsrange[0])/res)\n",
    "    ref_lat=max(0,min(latsrange[0],latsrange[1]))\n",
    "\n",
    "    lon_stepsize=res*lon_length(ref_lat)\n",
    "    lat_stepsize=res*lat_length(ref_lat)\n",
    "    next_lat=latsrange[0]\n",
    "    while(next_lat<=latsrange[1]): \n",
    "        diff=(lon_length(ref_lat)-lon_length(next_lat))*(lonsrange[1]-lonsrange[0])\n",
    "        start=lonsrange[0]-((.5*diff)/lon_length(next_lat))\n",
    "        lonstep_lat=lon_stepsize/lon_length(next_lat)\n",
    "        cur_lon=start\n",
    "\n",
    "        lonlist=[(next_lat,cur_lon)]\n",
    "        for i in range(n_steps):\n",
    "            cur_lon+=lonstep_lat\n",
    "            lonlist.append((next_lat,cur_lon))\n",
    "        Grid.append(lonlist)\n",
    "        next_lat=round(next_lat+res,2)\n",
    "    return np.asarray(Grid)\n",
    "\n",
    "res=0.04\n",
    "Grid=Grid_generation(res)\n",
    "\n",
    "land=np.load(\"land_0.04.npy\")\n",
    "land2=np.empty(land.shape)\n",
    "for i in range(land.shape[0]):\n",
    "    for j in range(land.shape[1]):\n",
    "        if(i> 0 and j>0 and i<land.shape[0]-1 and j<land.shape[1]-1):\n",
    "            land2[i][j]=(((land[i-1][j]+land[i+1][j]+land[i][j-1]+land[i][j+1]+land[i-1][j+1]+land[i-1][j-1]+land[i+1][j-1]+land[i+1][j+1])/8)+land[i][j])/2\n",
    "        else:\n",
    "            land2[i][j]=land[i][j]\n",
    "land_ind=np.asarray(np.where(land2>0))\n",
    "\n",
    "\n",
    "grid_res=(len(Grid),len(Grid[0]))\n",
    "\n",
    "minlon,maxlon=min(Grid[-1][0][1],Grid[0][0][1]),max(Grid[-1][-1][1],Grid[0][-1][1])\n",
    "lons=(minlon,maxlon)\n",
    "lats=(latsrange[0],latsrange[1])\n",
    "lons,lats\n",
    "\n",
    "heightall=np.load(\"height.npy\").tolist()\n",
    "winds_u=np.load(\"winds_u.npy\").tolist()\n",
    "winds_v=np.load(\"winds_v.npy\").tolist()\n",
    "windlats=np.load(\"windlats.npy\")\n",
    "windlons=np.load(\"windlons.npy\")\n",
    "windlatsmap={item:i for i,item in enumerate(windlats)}\n",
    "windlonsmap={item:i for i,item in enumerate(windlons)}\n",
    "\n",
    "\n",
    "\n",
    "folder=\"0/water/\"\n",
    "\n",
    "\n",
    "\n",
    "waterlats=np.load(folder+\"lats.npy\")\n",
    "waterlats=[round(i,2) for i in waterlats]\n",
    "waterlatsmap={item:i for i,item in enumerate(waterlats)}\n",
    "\n",
    "\n",
    "\n",
    "waterlons=np.load(folder+\"lons_0.npy\")\n",
    "waterlons=[round(i,2) for i in waterlons]\n",
    "waterlonsmap={item:i for i,item in enumerate(waterlons)}\n",
    "turl=\"https://tds.hycom.org/thredds/dodsC/GLBv0.08/expt_93.0/uv3z.dods?time\"\n",
    "time_list=list(np.load(\"time_list.npy\"))\n",
    "timesmap={t:i for i,t in enumerate(time_list)}\n",
    "\n",
    "\n",
    "from scipy.interpolate import LinearNDInterpolator\n",
    "folder=\"0/water/\"\n",
    "time_res_mins=4\n",
    "wind_u=[]\n",
    "wind_v=[]\n",
    "water_u=[]\n",
    "water_v=[]\n",
    "waveheight=[]\n",
    "windall_vars=[]\n",
    "waterall_vars=[]\n",
    "\n",
    "# with open(\"model.m\",\"rb\") as file:\n",
    "#     model=pickle.load(file)\n",
    "\n",
    "timesrange=[\"2018-01-02 00:00:00\",\"2018-01-16 00:00:00\"]\n",
    "ref_time=\"2000-01-01 00:00:00\"\n",
    "total_iters=(datetime.strptime(timesrange[1],\"%Y-%m-%d %H:%M:%S\")-datetime.strptime(timesrange[0],\"%Y-%m-%d %H:%M:%S\")).total_seconds()/(60*time_res_mins)\n",
    "initial_offset=(datetime.strptime(timesrange[0],\"%Y-%m-%d %H:%M:%S\")-datetime.strptime(ref_time,\"%Y-%m-%d %H:%M:%S\")).total_seconds()/3600\n",
    "dwnld_offset=initial_offset-24\n",
    "#print(total_iters,initial_offset)\n",
    "\n",
    "#@numba.jit\n",
    "def prev_nxt(x,resolution):\n",
    "    if(x>0):\n",
    "        return (round(int(x/resolution)*resolution,2),round((int(x/resolution)+1)*resolution,2))\n",
    "    else:\n",
    "        return (round((int(x/resolution)-1)*resolution,2),round((int(x/resolution))*resolution,2))\n"
   ]
  },
  {
   "cell_type": "code",
   "execution_count": 2,
   "metadata": {},
   "outputs": [
    {
     "name": "stdout",
     "output_type": "stream",
     "text": [
      "2020-04-28 10:35:08.204314\n"
     ]
    }
   ],
   "source": [
    "narrowband=np.zeros((Grid.shape[0],Grid.shape[1]))\n",
    "\n",
    "for i in range(30,100):\n",
    "    for j in range(400,1000):\n",
    "        narrowband[i][j]=1\n",
    "a=np.where(narrowband>0)\n",
    "nb_pts=np.asarray([(a[0][i],a[1][i]) for i in range(len(a[0]))])\n",
    "nb_pts=nb_pts.astype(np.int32)\n",
    "\n",
    "print(datetime.now())"
   ]
  },
  {
   "cell_type": "code",
   "execution_count": null,
   "metadata": {},
   "outputs": [],
   "source": [
    "def create_gridfile(t,nb):\n",
    "    #nb=np.asarray(nb)\n",
    "    s=time.time()\n",
    "    \n",
    "    \n",
    "    Wa_u=[[0]*Grid.shape[1] for _ in range(Grid.shape[0])] \n",
    "    Wa_v=[[0]*Grid.shape[1] for _ in range(Grid.shape[0])] \n",
    "    \n",
    "    a=np.where(nb>0)\n",
    "    nb_pts=[(a[0][i],a[1][i]) for i in range(len(a[0]))]\n",
    "\n",
    "\n",
    "    idate=datetime.strptime(timesrange[0],\"%Y-%m-%d %H:%M:%S\")+timedelta(minutes=time_res_mins*t)\n",
    "    imonth=idate.month\n",
    "    iyear=idate.year\n",
    "    ihrs_from_month_beginning=(idate-datetime.strptime(\"{}-{}-01 00:00:00\".format(iyear,imonth),\"%Y-%m-%d %H:%M:%S\")).total_seconds()/3600\n",
    "    #print(imonth,idate,ihrs_from_month_beginning)\n",
    "    ihrs=initial_offset+(t*time_res_mins/60)\n",
    "    prev_t,next_t=prev_nxt(ihrs,3)\n",
    "    try:\n",
    "        prev_ind=timesmap[prev_t]\n",
    "        next_ind=timesmap[next_t]\n",
    "    except:\n",
    "        close_val=min(timesmap.keys(), key=lambda x:abs(x-ihrs))\n",
    "        if(close_val<ihrs):\n",
    "            prev_ind=timesmap[close_val]\n",
    "            next_ind=prev_ind+1\n",
    "            prev_t=close_val\n",
    "            next_t=time_list[next_ind]\n",
    "        else:\n",
    "            next_ind=timesmap[close_val]\n",
    "            prev_ind=next_ind-1\n",
    "            prev_t=time_list[prev_ind]\n",
    "            next_t=close_val\n",
    "    prev_wateruv_file=np.load(folder+\"{}_0.npy\".format(prev_ind)).tolist()\n",
    "    next_wateruv_file=np.load(folder+\"{}_0.npy\".format(next_ind)).tolist()\n",
    "    def each_interp(pt):\n",
    "        #print(i,j)\n",
    "        i,j=pt \n",
    "        # if nb[i][j]==1:\n",
    "        #     print(i,j)\n",
    "        ilat,ilon=Grid[i][j]\n",
    "\n",
    "        try:\n",
    "            variables=[]\n",
    "            fdata=[]\n",
    "            for hr in [prev_t,next_t]:\n",
    "                for la in prev_nxt(ilat,0.5):\n",
    "                    for lo in prev_nxt(ilon,0.5):\n",
    "                        hr_ind=int((hr-dwnld_offset)/3)\n",
    "                        la_ind=windlatsmap[la]\n",
    "                        lo_ind=windlonsmap[lo]\n",
    "\n",
    "                        if(hr==prev_t):\n",
    "                            uv_file=prev_wateruv_file\n",
    "                        else:\n",
    "                            uv_file=next_wateruv_file\n",
    "\n",
    "                        variables.append((hr,la,lo))\n",
    "                        fdata.append((heightall[hr_ind][la_ind][lo_ind],winds_u[hr_ind][la_ind][lo_ind],winds_v[hr_ind][la_ind][lo_ind],0.001*uv_file[0][0][la_ind][lo_ind],0.001*uv_file[1][0][la_ind][lo_ind]))\n",
    "            #variables=[[prev_t,next_t],prev_nxt(ilat,0.5),prev_nxt(ilon,0.5)]\n",
    "            interpolator=LinearNDInterpolator(variables,fdata,rescale=True)\n",
    "            h,wi_u,wi_v,wa_u,wa_v=interpolator(ihrs,ilat,ilon)\n",
    "#             wa_u=0.001*wa_u\n",
    "#             wa_v=0.001*wa_v\n",
    "\n",
    "        except Exception as e:\n",
    "            print(e)\n",
    "            h,wi_u,wi_v,wa_u,wa_v=[0,0,0,0,0]\n",
    "        return h,wi_u,wi_v,wa_u,wa_v\n",
    "    model_input=Parallel(n_jobs=1)(delayed(each_interp)(pt) for pt in nb_pts)\n",
    "    \n",
    "    output=model.predict(model_input)\n",
    "    F=np.zeros((Grid.shape[0],Grid.shape[1]))\n",
    "    \n",
    "    for k,(i,j) in enumerate(nb_pts):\n",
    "        F[i][j]=output[k]\n",
    "        Wa_u[i][j]=model_input[k][3]\n",
    "        Wa_v[i][j]=model_input[k][4]\n",
    "    \n",
    "\n",
    "    F[land_ind[0],land_ind[1]]=0\n",
    "    Wa_u[land_ind[0],land_ind[1]]=0\n",
    "    Wa_v[land_ind[0],land_ind[1]]=0\n",
    "    \n",
    "    #Wa_u,Wa_v=out[:,3],out[:,4]\n",
    "#     for k,pt in enumerate(nb_pts):\n",
    "#         Wa_u[i][j]=model_input[k][3]\n",
    "#         Wa_v[i][j]=model_input[k][4]\n",
    "    return F,Wa_u,Wa_v\n"
   ]
  },
  {
   "cell_type": "code",
   "execution_count": null,
   "metadata": {
    "scrolled": true
   },
   "outputs": [],
   "source": [
    "m=time.time()\n",
    "s=create_gridfile(0,nb_pts)\n",
    "time.time()-m"
   ]
  },
  {
   "cell_type": "code",
   "execution_count": null,
   "metadata": {},
   "outputs": [],
   "source": [
    "split_nb=[nb_pts[i:i+int(ceil(len(nb_pts)/4))] for i in range(0,len(nb_pts),int(ceil(len(nb_pts)/4)))]"
   ]
  },
  {
   "cell_type": "code",
   "execution_count": null,
   "metadata": {},
   "outputs": [],
   "source": [
    "from scipy.interpolate import LinearNDInterpolator\n"
   ]
  },
  {
   "cell_type": "code",
   "execution_count": null,
   "metadata": {},
   "outputs": [],
   "source": [
    "def trilinear_interpolation(points,values,outpoint):\n",
    "    x,y,z=outpoint\n",
    "    x0,x1=points[0]\n",
    "    y0,y1=points[1]\n",
    "    z0,z1=points[2]\n",
    "    c000,c001,c010,c011,c100,c101,c110,c111=values\n",
    "    denom=(x1-x0)*(y1-y0)*(z1-z0)\n",
    "    a0=(c000*x1*y1*z1-c001*x1*y1*z0-c010*x1*y0*z1+c011*x1*y0*z0-c100*x0*y1*z1+c101*x0*y1*z0+c110*x0*y0*z1-c111*x0*y0*z0)/denom\n",
    "    a1=(-c000*y1*z1+c001*y1*z0+c010*y0*z1-c011*y0*z0+c100*y1*z1-c101*y1*z0-c110*y0*z1+c111*y0*z0)/denom\n",
    "    a2=(-c000*x1*z1+c001*x1*z0+c010*x1*z1-c011*x1*z0+c100*x0*z1-c101*x0*z0-c110*x0*z1+c111*x0*z0)/denom\n",
    "    a3=(-c000*x1*y1+c001*x1*y1+c010*x1*y0-c011*x1*y0+c100*x0*y1-c101*x0*y1-c110*x0*y0+c111*x0*y0)/denom\n",
    "    a4=(c000*z1-c001*z0-c010*z1+c011*z0-c100*z1+c101*z0+c110*z1-c111*z0)/denom\n",
    "    a5=(c000*y1-c001*y1-c010*y0+c011*y1-c100*y1+c101*y1+c110*y0-c111*y0)/denom\n",
    "    a6=(c000*x1-c001*x1-c010*x1+c011*x0-c100*x0+c101*x0+c110*x0-c111*x0)/denom\n",
    "    a7=(-c000+c001+c010-c011+c100-c101-c110+c111)/denom\n",
    "    return a0+a1*x+a2*y+a3*z+a4*x*y+a5*x*z+a6*y*z+a7*x*y*z"
   ]
  },
  {
   "cell_type": "code",
   "execution_count": null,
   "metadata": {},
   "outputs": [],
   "source": [
    "def interp_3d(points,values_list,outpoint):\n",
    "    output=[]\n",
    "    for i in range(len(values_list[0])):\n",
    "        output.append(trilinear_interpolation(points,[val[i] for val in values_list],outpoint))\n",
    "    return output"
   ]
  },
  {
   "cell_type": "code",
   "execution_count": null,
   "metadata": {},
   "outputs": [],
   "source": [
    "my_interpolating_function = RegularGridInterpolator((x, y, z), data)\n"
   ]
  },
  {
   "cell_type": "code",
   "execution_count": null,
   "metadata": {},
   "outputs": [],
   "source": [
    "points=[(0,1),(0,1),(0,1)]\n",
    "points2=[(0,0,0),(0,0,1),(0,1,0),(0,1,1),(1,0,0),(1,0,1),(1,1,0),(1,1,1)]\n",
    "values=[0,1,1,4,1,4,4,9]\n",
    "outpt=[0.5,0.5,0.5]\n",
    "print(trilinear_interpolation(points,values,outpt))\n",
    "LinearNDInterpolator(points2,values)(0.5,0.5,0.5)"
   ]
  },
  {
   "cell_type": "code",
   "execution_count": null,
   "metadata": {},
   "outputs": [],
   "source": [
    "s=time.time()\n",
    "m=create_gridfile(0,nb_pts)\n",
    "print(time.time()-s)"
   ]
  },
  {
   "cell_type": "code",
   "execution_count": 3,
   "metadata": {},
   "outputs": [],
   "source": [
    "from ctypes import *"
   ]
  },
  {
   "cell_type": "code",
   "execution_count": 4,
   "metadata": {},
   "outputs": [],
   "source": [
    "lib=CDLL(\"/home/revanth/Mtech/bp/cpp2/openmp4/interpolation/libinter.so.1\")"
   ]
  },
  {
   "cell_type": "code",
   "execution_count": null,
   "metadata": {},
   "outputs": [],
   "source": [
    "a=[1,2,3,4,5]\n",
    "b=[a]*3\n",
    "arr = (c_double * len(a))(*a)\n"
   ]
  },
  {
   "cell_type": "code",
   "execution_count": null,
   "metadata": {},
   "outputs": [],
   "source": []
  },
  {
   "cell_type": "code",
   "execution_count": 5,
   "metadata": {},
   "outputs": [],
   "source": [
    "def double_array(M,N,types=c_double):\n",
    "    double_P = POINTER(types)\n",
    "    inner_array = (types * N)\n",
    "    inner_array_P = POINTER(inner_array)\n",
    "    dest = (double_P * M) ()\n",
    "    for i in range(M):\n",
    "        dest[i] = inner_array()\n",
    "    return dest\n",
    "def triple_array(P,M,N):\n",
    "    double_P_P=POINTER(POINTER(c_double))\n",
    "    dest=(double_P_P*P)()\n",
    "    for i in range(P):\n",
    "        dest[i]=double_array(M,N)\n",
    "    return dest\n",
    "def copy_dlist(li,types=c_double):\n",
    "    M,N=len(li),len(li[0])\n",
    "    dest=double_array(M,N,types)\n",
    "    for i in range(M):\n",
    "        for j in range(N):\n",
    "            if(types==c_int):\n",
    "                dest[i][j]=int(li[i][j])\n",
    "            else:\n",
    "                dest[i][j]=li[i][j]\n",
    "    return dest\n",
    "def copy_tlist(li):\n",
    "    P,M,N=len(li),len(li[0]),len(li[0][0])\n",
    "    dest=triple_array(P,M,N)\n",
    "    for i in range(P):\n",
    "        for j in range(M):\n",
    "            for k in range(N):\n",
    "                dest[i][j][k]=li[i][j][k]\n",
    "    return dest"
   ]
  },
  {
   "cell_type": "code",
   "execution_count": 6,
   "metadata": {},
   "outputs": [],
   "source": [
    "c_heightall=copy_tlist(heightall)\n",
    "c_winds_u=copy_tlist(winds_u)\n",
    "c_winds_v=copy_tlist(winds_v)\n",
    "c_Grid=copy_tlist(Grid)\n",
    "c_wilatsmap=copy_dlist([[item,i] for i,item in enumerate(windlats)])\n",
    "c_wilonsmap=copy_dlist([[item,i] for i,item in enumerate(windlons)])"
   ]
  },
  {
   "cell_type": "code",
   "execution_count": null,
   "metadata": {},
   "outputs": [],
   "source": []
  },
  {
   "cell_type": "code",
   "execution_count": 7,
   "metadata": {},
   "outputs": [],
   "source": [
    "t=0\n",
    "idate=datetime.strptime(timesrange[0],\"%Y-%m-%d %H:%M:%S\")+timedelta(minutes=time_res_mins*t)\n",
    "imonth=idate.month\n",
    "iyear=idate.year\n",
    "ihrs_from_month_beginning=(idate-datetime.strptime(\"{}-{}-01 00:00:00\".format(iyear,imonth),\"%Y-%m-%d %H:%M:%S\")).total_seconds()/3600\n",
    "#print(imonth,idate,ihrs_from_month_beginning)\n",
    "ihrs=initial_offset+(t*time_res_mins/60)\n",
    "prev_t,next_t=prev_nxt(ihrs,3)\n",
    "try:\n",
    "    prev_ind=timesmap[prev_t]\n",
    "    next_ind=timesmap[next_t]\n",
    "except:\n",
    "    close_val=min(timesmap.keys(), key=lambda x:abs(x-ihrs))\n",
    "    if(close_val<ihrs):\n",
    "        prev_ind=timesmap[close_val]\n",
    "        next_ind=prev_ind+1\n",
    "        prev_t=close_val\n",
    "        next_t=time_list[next_ind]\n",
    "    else:\n",
    "        next_ind=timesmap[close_val]\n",
    "        prev_ind=next_ind-1\n",
    "        prev_t=time_list[prev_ind]\n",
    "        next_t=close_val\n",
    "prev_wateruv_file=np.load(folder+\"{}_0.npy\".format(prev_ind))\n",
    "next_wateruv_file=np.load(folder+\"{}_0.npy\".format(next_ind))\n"
   ]
  },
  {
   "cell_type": "code",
   "execution_count": 9,
   "metadata": {},
   "outputs": [
    {
     "data": {
      "text/plain": [
       "0.009538888931274414"
      ]
     },
     "execution_count": 9,
     "metadata": {},
     "output_type": "execute_result"
    }
   ],
   "source": [
    "t=time.time()\n",
    "prev_wateruv=np.asarray([prev_wateruv_file[0][0],prev_wateruv_file[1][0]])\n",
    "prev_wateruv=prev_wateruv.astype(np.float64)\n",
    "# c_prevuv2 = (c_double*prev_wateruv.size)(*prev_wateruv.flatten().tolist())\n",
    "c_prevuv = prev_wateruv.ctypes.data_as(c_double_p)\n",
    "\n",
    "next_wateruv=np.asarray([next_wateruv_file[0][0],next_wateruv_file[1][0]])\n",
    "next_wateruv=next_wateruv.astype(np.float64)\n",
    "# c_nextuv2=(c_double*next_wateruv.size)(*next_wateruv.flatten().tolist())\n",
    "c_nextuv=next_wateruv.ctypes.data_as(c_double_p)\n",
    "\n",
    "time.time()-t"
   ]
  },
  {
   "cell_type": "code",
   "execution_count": 8,
   "metadata": {},
   "outputs": [],
   "source": [
    "c_double_p =POINTER(c_double)\n",
    "c_int_p=POINTER(c_int)"
   ]
  },
  {
   "cell_type": "code",
   "execution_count": null,
   "metadata": {},
   "outputs": [],
   "source": [
    "s=time.time()\n",
    "c_narrowband2=(c_int*nb_pts.size)(*nb_pts.flatten().tolist())\n",
    "print(time.time()-s)\n",
    "# c_prevuv=copy_tlist(prev_wateruv)\n",
    "# c_nextuv=copy_tlist(next_wateruv)\n",
    "c_prevuv2 = (c_double*prev_wateruv.size)(*prev_wateruv.flatten().tolist())\n",
    "c_nextuv2=(c_double*next_wateruv.size)(*next_wateruv.flatten().tolist())\n",
    "output=double_array(len(nb_pts),5)\n",
    "time.time()-s"
   ]
  },
  {
   "cell_type": "code",
   "execution_count": 53,
   "metadata": {},
   "outputs": [
    {
     "name": "stdout",
     "output_type": "stream",
     "text": [
      "0.000127077102661\n"
     ]
    },
    {
     "data": {
      "text/plain": [
       "0.0071849822998046875"
      ]
     },
     "execution_count": 53,
     "metadata": {},
     "output_type": "execute_result"
    }
   ],
   "source": [
    "s=time.time()\n",
    "c_narrowband=nb_pts.ctypes.data_as(c_int_p)\n",
    "print(time.time()-s)\n",
    "# c_prevuv=copy_tlist(prev_wateruv)\n",
    "# c_nextuv=copy_tlist(next_wateruv)\n",
    "# c_prevuv = prev_wateruv.ctypes.data_as(c_double_p)\n",
    "# c_nextuv=next_wateruv.ctypes.data_as(c_double_p)\n",
    "output=(c_double*5*len(nb_pts))()\n",
    "time.time()-s"
   ]
  },
  {
   "cell_type": "code",
   "execution_count": 54,
   "metadata": {},
   "outputs": [
    {
     "data": {
      "text/plain": [
       "0.4169461727142334"
      ]
     },
     "execution_count": 54,
     "metadata": {},
     "output_type": "execute_result"
    }
   ],
   "source": [
    "t=time.time()\n",
    "lib.interpolation(c_narrowband,c_int(len(nb_pts)),c_wilatsmap,\n",
    "            c_int(len(windlats)),c_wilonsmap,c_int(len(windlons)),\n",
    "                 c_int(int(dwnld_offset)),c_double(ihrs),c_double(prev_t),c_double(next_t),\n",
    "                 c_Grid,c_heightall,c_winds_u,c_winds_v,c_prevuv,c_nextuv,\n",
    "                  c_int(next_wateruv.shape[0]),c_int(next_wateruv.shape[1]),c_int(next_wateruv.shape[2]),output)\n",
    "time.time()-t"
   ]
  },
  {
   "cell_type": "code",
   "execution_count": 55,
   "metadata": {},
   "outputs": [
    {
     "data": {
      "text/plain": [
       "0.010040044784545898"
      ]
     },
     "execution_count": 55,
     "metadata": {},
     "output_type": "execute_result"
    }
   ],
   "source": [
    "t=time.time()\n",
    "#b=np.empty((len(nb_pts),5))\n",
    "b=np.copy(output,\"C\")\n",
    "time.time()-t"
   ]
  },
  {
   "cell_type": "code",
   "execution_count": null,
   "metadata": {},
   "outputs": [],
   "source": [
    "outputpt=(c_double*3)(0.5,0.5,0.5)\n",
    "points=double_array(3,2)\n",
    "points[0][0],points[0][1]=0,1\n",
    "points[1][0],points[1][1]=0,1\n",
    "points[2][0],points[2][1]=0,1\n",
    "size=5\n",
    "values=double_array(8,5)\n",
    "for i in range(8):\n",
    "    values[i][0],values[i][1],values[i][2],values[i][3],values[i][4]=0,1,2,3,4\n",
    "    #\n",
    "out=(c_double*size)(0,0,0,0,0)"
   ]
  },
  {
   "cell_type": "code",
   "execution_count": 56,
   "metadata": {},
   "outputs": [
    {
     "data": {
      "text/plain": [
       "(-0.022048264258668238, -0.022048264258668238)"
      ]
     },
     "execution_count": 56,
     "metadata": {},
     "output_type": "execute_result"
    }
   ],
   "source": [
    "output[10][3],b[10][3]"
   ]
  },
  {
   "cell_type": "code",
   "execution_count": null,
   "metadata": {},
   "outputs": [],
   "source": [
    "output[0][3]"
   ]
  },
  {
   "cell_type": "code",
   "execution_count": null,
   "metadata": {},
   "outputs": [],
   "source": [
    "heightall[0][0][6]"
   ]
  },
  {
   "cell_type": "code",
   "execution_count": null,
   "metadata": {},
   "outputs": [],
   "source": [
    "heightall=np.load(\"height.npy\")"
   ]
  },
  {
   "cell_type": "code",
   "execution_count": null,
   "metadata": {},
   "outputs": [],
   "source": [
    "heightall=np.asarray(heightall)"
   ]
  },
  {
   "cell_type": "code",
   "execution_count": null,
   "metadata": {},
   "outputs": [],
   "source": [
    "heightall[5][8][159],heightall.shape"
   ]
  },
  {
   "cell_type": "code",
   "execution_count": null,
   "metadata": {},
   "outputs": [],
   "source": [
    "c_heightall[5][8][159]"
   ]
  },
  {
   "cell_type": "code",
   "execution_count": null,
   "metadata": {},
   "outputs": [],
   "source": [
    "c_float_p =POINTER(c_float)\n",
    "data = np.array([[0.1, 0.1], [0.2, 0.2], [0.3, 0.3]])\n",
    "data = data.astype(np.float32)\n",
    "data_p = data.ctypes.data_as(c_float_p)"
   ]
  },
  {
   "cell_type": "code",
   "execution_count": null,
   "metadata": {},
   "outputs": [],
   "source": [
    "data_p[3]"
   ]
  },
  {
   "cell_type": "code",
   "execution_count": null,
   "metadata": {},
   "outputs": [],
   "source": [
    "c_double_p =POINTER(c_double)\n",
    "prev_wateruv_file=prev_wateruv_file.astype(np.float64)\n",
    "data_p = prev_wateruv_file.ctypes.data_as(c_double_p)"
   ]
  },
  {
   "cell_type": "code",
   "execution_count": null,
   "metadata": {},
   "outputs": [],
   "source": [
    "data_p[1725680+100]"
   ]
  },
  {
   "cell_type": "code",
   "execution_count": null,
   "metadata": {},
   "outputs": [],
   "source": [
    "prev_wateruv_file.shape[0]*prev_wateruv_file.shape[1]*prev_wateruv_file.shape[2]*prev_wateruv_file.shape[3]"
   ]
  },
  {
   "cell_type": "code",
   "execution_count": null,
   "metadata": {},
   "outputs": [],
   "source": []
  },
  {
   "cell_type": "code",
   "execution_count": null,
   "metadata": {},
   "outputs": [],
   "source": [
    "diff=uvv-prev_wateruv_file"
   ]
  },
  {
   "cell_type": "code",
   "execution_count": null,
   "metadata": {},
   "outputs": [],
   "source": [
    "diff[diff!=0]"
   ]
  },
  {
   "cell_type": "code",
   "execution_count": null,
   "metadata": {},
   "outputs": [],
   "source": []
  }
 ],
 "metadata": {
  "kernelspec": {
   "display_name": "Python 3",
   "language": "python",
   "name": "python3"
  },
  "language_info": {
   "codemirror_mode": {
    "name": "ipython",
    "version": 3
   },
   "file_extension": ".py",
   "mimetype": "text/x-python",
   "name": "python",
   "nbconvert_exporter": "python",
   "pygments_lexer": "ipython3",
   "version": "3.6.9"
  }
 },
 "nbformat": 4,
 "nbformat_minor": 2
}
